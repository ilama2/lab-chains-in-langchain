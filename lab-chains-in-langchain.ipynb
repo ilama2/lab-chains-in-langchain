{
 "cells": [
  {
   "cell_type": "markdown",
   "id": "52824b89-532a-4e54-87e9-1410813cd39e",
   "metadata": {},
   "source": [
    "# Lab | Chains in LangChain\n",
    "\n",
    "## Outline\n",
    "\n",
    "* LLMChain\n",
    "* Sequential Chains\n",
    "  * SimpleSequentialChain\n",
    "  * SequentialChain\n",
    "* Router Chain"
   ]
  },
  {
   "cell_type": "code",
   "execution_count": 1,
   "id": "541eb2f1",
   "metadata": {},
   "outputs": [],
   "source": [
    "import warnings\n",
    "warnings.filterwarnings('ignore')"
   ]
  },
  {
   "cell_type": "code",
   "execution_count": 3,
   "id": "b7ed03ed-1322-49e3-b2a2-33e94fb592ef",
   "metadata": {
    "tags": []
   },
   "outputs": [],
   "source": [
    "import os\n",
    "\n",
    "from dotenv import load_dotenv, find_dotenv\n",
    "_ = load_dotenv(find_dotenv())\n",
    "\n",
    "OPENAI_API_KEY  = os.getenv('OPENAI_API_KEY')\n",
    "HUGGINGFACEHUB_API_TOKEN = os.getenv('HUGGINGFACEHUB_API_TOKEN')"
   ]
  },
  {
   "cell_type": "code",
   "execution_count": 4,
   "id": "b84e441b",
   "metadata": {
    "tags": []
   },
   "outputs": [],
   "source": [
    "#!pip install pandas"
   ]
  },
  {
   "cell_type": "code",
   "execution_count": 6,
   "id": "974acf8e-8f88-42de-88f8-40a82cb58e8b",
   "metadata": {
    "tags": []
   },
   "outputs": [],
   "source": [
    "import pandas as pd\n",
    "df = pd.read_csv('data/Data.csv')"
   ]
  },
  {
   "cell_type": "code",
   "execution_count": 7,
   "id": "b7a09c35",
   "metadata": {
    "tags": []
   },
   "outputs": [
    {
     "data": {
      "text/html": [
       "<div>\n",
       "<style scoped>\n",
       "    .dataframe tbody tr th:only-of-type {\n",
       "        vertical-align: middle;\n",
       "    }\n",
       "\n",
       "    .dataframe tbody tr th {\n",
       "        vertical-align: top;\n",
       "    }\n",
       "\n",
       "    .dataframe thead th {\n",
       "        text-align: right;\n",
       "    }\n",
       "</style>\n",
       "<table border=\"1\" class=\"dataframe\">\n",
       "  <thead>\n",
       "    <tr style=\"text-align: right;\">\n",
       "      <th></th>\n",
       "      <th>Product</th>\n",
       "      <th>Review</th>\n",
       "    </tr>\n",
       "  </thead>\n",
       "  <tbody>\n",
       "    <tr>\n",
       "      <th>0</th>\n",
       "      <td>Queen Size Sheet Set</td>\n",
       "      <td>I ordered a king size set. My only criticism w...</td>\n",
       "    </tr>\n",
       "    <tr>\n",
       "      <th>1</th>\n",
       "      <td>Waterproof Phone Pouch</td>\n",
       "      <td>I loved the waterproof sac, although the openi...</td>\n",
       "    </tr>\n",
       "    <tr>\n",
       "      <th>2</th>\n",
       "      <td>Luxury Air Mattress</td>\n",
       "      <td>This mattress had a small hole in the top of i...</td>\n",
       "    </tr>\n",
       "    <tr>\n",
       "      <th>3</th>\n",
       "      <td>Pillows Insert</td>\n",
       "      <td>This is the best throw pillow fillers on Amazo...</td>\n",
       "    </tr>\n",
       "    <tr>\n",
       "      <th>4</th>\n",
       "      <td>Milk Frother Handheld\\n</td>\n",
       "      <td>I loved this product. But they only seem to l...</td>\n",
       "    </tr>\n",
       "  </tbody>\n",
       "</table>\n",
       "</div>"
      ],
      "text/plain": [
       "                   Product                                             Review\n",
       "0     Queen Size Sheet Set  I ordered a king size set. My only criticism w...\n",
       "1   Waterproof Phone Pouch  I loved the waterproof sac, although the openi...\n",
       "2      Luxury Air Mattress  This mattress had a small hole in the top of i...\n",
       "3           Pillows Insert  This is the best throw pillow fillers on Amazo...\n",
       "4  Milk Frother Handheld\\n   I loved this product. But they only seem to l..."
      ]
     },
     "execution_count": 7,
     "metadata": {},
     "output_type": "execute_result"
    }
   ],
   "source": [
    "df.head()"
   ]
  },
  {
   "cell_type": "code",
   "execution_count": 51,
   "id": "51964d9b",
   "metadata": {},
   "outputs": [
    {
     "data": {
      "text/plain": [
       "'I loved the waterproof sac, although the opening was made of a hard plastic. I don’t know if that would break easily. But I couldn’t turn my phone on, once it was in the pouch.'"
      ]
     },
     "execution_count": 51,
     "metadata": {},
     "output_type": "execute_result"
    }
   ],
   "source": [
    "df[\"Review\"][1]"
   ]
  },
  {
   "cell_type": "markdown",
   "id": "b940ce7c",
   "metadata": {},
   "source": [
    "## LLMChain"
   ]
  },
  {
   "cell_type": "code",
   "execution_count": 8,
   "id": "e92dff22",
   "metadata": {
    "tags": []
   },
   "outputs": [],
   "source": [
    "from langchain_openai import ChatOpenAI\n",
    "from langchain.prompts import ChatPromptTemplate\n",
    "from langchain.chains import LLMChain"
   ]
  },
  {
   "cell_type": "code",
   "execution_count": 10,
   "id": "943237a7",
   "metadata": {},
   "outputs": [],
   "source": [
    "#Replace None by your own value and justify\n",
    "llm = ChatOpenAI(temperature=0.5)\n"
   ]
  },
  {
   "cell_type": "code",
   "execution_count": 24,
   "id": "cdcdb42d",
   "metadata": {},
   "outputs": [],
   "source": [
    "prompt = ChatPromptTemplate.from_template(\n",
    "                  \"Can you describe the features and benefits of{product}\" \n",
    ")"
   ]
  },
  {
   "cell_type": "code",
   "execution_count": 25,
   "id": "d7abc20b",
   "metadata": {},
   "outputs": [],
   "source": [
    "\n",
    "chain = LLMChain(llm=llm, prompt=prompt)"
   ]
  },
  {
   "cell_type": "code",
   "execution_count": 26,
   "id": "ad44d1fb",
   "metadata": {},
   "outputs": [
    {
     "data": {
      "text/plain": [
       "\"Sure! A Queen Size Sheet Set typically includes a fitted sheet, a flat sheet, and two matching pillowcases. The main features and benefits of a Queen Size Sheet Set include:\\n\\n1. Perfect fit: The fitted sheet is designed to fit securely over a Queen size mattress, ensuring a snug and wrinkle-free fit.\\n\\n2. Soft and comfortable: Queen Size Sheet Sets are usually made from high-quality materials such as cotton, linen, or microfiber, providing a soft and cozy feel for a comfortable night's sleep.\\n\\n3. Easy to care for: Most Queen Size Sheet Sets are machine washable and easy to care for, making them low maintenance and convenient for everyday use.\\n\\n4. Stylish design: Queen Size Sheet Sets come in a variety of colors, patterns, and designs to complement any bedroom decor and add a touch of style to your bedding.\\n\\n5. Value for money: Purchasing a Queen Size Sheet Set typically offers better value compared to buying individual sheets, as you get a complete set that includes everything you need for your bed.\\n\\nOverall, Queen Size Sheet Sets are a practical and stylish bedding option that provides comfort, convenience, and value for money.\""
      ]
     },
     "execution_count": 26,
     "metadata": {},
     "output_type": "execute_result"
    }
   ],
   "source": [
    "product = \"Queen Size Sheet Set\"#Select a product type to be describe\n",
    "chain.run(product)"
   ]
  },
  {
   "cell_type": "markdown",
   "id": "69b03469",
   "metadata": {},
   "source": [
    "## SimpleSequentialChain"
   ]
  },
  {
   "cell_type": "code",
   "execution_count": 27,
   "id": "febee243",
   "metadata": {},
   "outputs": [],
   "source": [
    "from langchain.chains import SimpleSequentialChain"
   ]
  },
  {
   "cell_type": "code",
   "execution_count": 28,
   "id": "2f31aa8a",
   "metadata": {},
   "outputs": [],
   "source": [
    "llm = ChatOpenAI(temperature=0.9)\n",
    "\n",
    "# prompt template 1\n",
    "first_prompt = ChatPromptTemplate.from_template(\n",
    "    #Repeat the initial query or create a new query that would feed into the second prompt\n",
    "    \"Can you describe the features and benefits of{product}\" \n",
    ")\n",
    "\n",
    "# Chain 1\n",
    "chain_one = LLMChain(llm=llm, prompt=first_prompt)"
   ]
  },
  {
   "cell_type": "code",
   "execution_count": 29,
   "id": "3f5d5b76",
   "metadata": {},
   "outputs": [],
   "source": [
    "\n",
    "# prompt template 2\n",
    "second_prompt = ChatPromptTemplate.from_template(\n",
    "    #Write the second prompt query that takes an input variable whose input will come from the previous prompt\"\n",
    "    \"Based on the following product description, write a creative and persuasive advertisement:\\n\\n{description}\"\n",
    ")\n",
    "# chain 2\n",
    "chain_two = LLMChain(llm=llm, prompt=second_prompt)"
   ]
  },
  {
   "cell_type": "code",
   "execution_count": 30,
   "id": "6c1eb2c4",
   "metadata": {},
   "outputs": [],
   "source": [
    "overall_simple_chain = SimpleSequentialChain(chains=[chain_one, chain_two],\n",
    "                                             verbose=True\n",
    "                                            )"
   ]
  },
  {
   "cell_type": "code",
   "execution_count": 31,
   "id": "78458efe",
   "metadata": {},
   "outputs": [
    {
     "name": "stdout",
     "output_type": "stream",
     "text": [
      "\n",
      "\n",
      "\u001b[1m> Entering new SimpleSequentialChain chain...\u001b[0m\n",
      "\u001b[36;1m\u001b[1;3mSure! A Queen Size Sheet Set typically includes a fitted sheet, a flat sheet, and two standard pillowcases. \n",
      "\n",
      "The features of a Queen Size Sheet Set may include:\n",
      "- made of high-quality materials such as cotton, microfiber, or bamboo\n",
      "- available in a variety of colors and patterns to suit any decor\n",
      "- deep pockets on the fitted sheet to accommodate mattresses up to a certain thickness\n",
      "- easy care instructions, such as machine washable and tumble dry low\n",
      "\n",
      "The benefits of a Queen Size Sheet Set may include:\n",
      "- a perfect fit for a Queen size bed, providing a smooth and comfortable sleeping surface\n",
      "- helps protect your mattress and pillows from dust, allergens, and wear and tear\n",
      "- adds a touch of style and personality to your bedroom\n",
      "- easy to care for and maintain, ensuring your bedding stays clean and fresh for a long time\n",
      "\n",
      "Overall, a Queen Size Sheet Set is a practical and stylish addition to any bedroom, offering comfort, durability, and easy maintenance.\u001b[0m\n",
      "\u001b[33;1m\u001b[1;3mIntroducing the perfect solution for your Queen size bed - our luxurious Queen Size Sheet Set! Made from high-quality materials like cotton, microfiber, or bamboo, our sheet sets come in a variety of colors and patterns to suit any decor.\n",
      "\n",
      "With deep pockets on the fitted sheet to accommodate mattresses of various thicknesses, our sheet sets provide a perfect fit every time. Not only do they ensure a smooth and comfortable sleeping surface, but they also protect your mattress and pillows from dust, allergens, and wear and tear.\n",
      "\n",
      "Add a touch of style and personality to your bedroom with our Queen Size Sheet Sets, while enjoying the ease of care with machine washable and tumble dry low instructions. Keep your bedding clean and fresh for years to come!\n",
      "\n",
      "Don't settle for anything less than the best for your Queen size bed - invest in our Queen Size Sheet Set today and experience the perfect combination of comfort, durability, and style. Make your bedroom the oasis of relaxation you deserve!\u001b[0m\n",
      "\n",
      "\u001b[1m> Finished chain.\u001b[0m\n"
     ]
    },
    {
     "data": {
      "text/plain": [
       "\"Introducing the perfect solution for your Queen size bed - our luxurious Queen Size Sheet Set! Made from high-quality materials like cotton, microfiber, or bamboo, our sheet sets come in a variety of colors and patterns to suit any decor.\\n\\nWith deep pockets on the fitted sheet to accommodate mattresses of various thicknesses, our sheet sets provide a perfect fit every time. Not only do they ensure a smooth and comfortable sleeping surface, but they also protect your mattress and pillows from dust, allergens, and wear and tear.\\n\\nAdd a touch of style and personality to your bedroom with our Queen Size Sheet Sets, while enjoying the ease of care with machine washable and tumble dry low instructions. Keep your bedding clean and fresh for years to come!\\n\\nDon't settle for anything less than the best for your Queen size bed - invest in our Queen Size Sheet Set today and experience the perfect combination of comfort, durability, and style. Make your bedroom the oasis of relaxation you deserve!\""
      ]
     },
     "execution_count": 31,
     "metadata": {},
     "output_type": "execute_result"
    }
   ],
   "source": [
    "overall_simple_chain.run(product)"
   ]
  },
  {
   "cell_type": "markdown",
   "id": "0dd59bda-9d02-44e7-b3d6-2bec61b99d8f",
   "metadata": {},
   "source": [
    "**Repeat the above twice for different products**"
   ]
  },
  {
   "cell_type": "code",
   "execution_count": null,
   "id": "c1f33300",
   "metadata": {},
   "outputs": [
    {
     "name": "stdout",
     "output_type": "stream",
     "text": [
      "\n",
      "\n",
      "\u001b[1m> Entering new SimpleSequentialChain chain...\u001b[0m\n",
      "\u001b[36;1m\u001b[1;3mSure! A waterproof phone pouch is a protective case or sleeve that is designed to keep your phone safe from water damage. \n",
      "\n",
      "Features:\n",
      "1. Waterproof: The main feature of a waterproof phone pouch is its ability to keep your phone dry and safe from water damage, even when fully submerged in water.\n",
      "2. Transparent window: Most waterproof phone pouches come with a transparent window that allows you to still use your phone's touchscreen functionality and take photos underwater.\n",
      "3. Secure closure: Waterproof phone pouches typically have a secure closure mechanism, such as a zip lock or snap closure, to ensure that water does not seep into the pouch.\n",
      "4. Adjustable strap: Many waterproof phone pouches come with an adjustable strap that allows you to wear the pouch around your neck or attach it to your belt or bag for easy access.\n",
      "\n",
      "Benefits:\n",
      "1. Protection: A waterproof phone pouch provides a high level of protection for your phone against water damage, making it ideal for outdoor activities such as swimming, snorkeling, kayaking, and boating.\n",
      "2. Convenience: With a waterproof phone pouch, you can use your phone in wet or underwater environments without worrying about damaging it.\n",
      "3. Versatility: Waterproof phone pouches are compatible with most smartphones and can also be used to store other small items such as keys, cash, cards, and IDs.\n",
      "4. Peace of mind: By using a waterproof phone pouch, you can have peace of mind knowing that your phone is safe and protected from water damage, allowing you to enjoy your outdoor adventures without any worries.\u001b[0m\n",
      "\u001b[33;1m\u001b[1;3mIntroducing the ultimate solution to keep your phone safe from water damage - our waterproof phone pouch! \n",
      "\n",
      "With its transparent window, you can still use all of your phone's features, even underwater. The secure closure mechanism ensures that water stays out, while the adjustable strap allows you to easily carry your phone with you on any adventure.\n",
      "\n",
      "Whether you're swimming, snorkeling, kayaking, or simply lounging by the pool, our waterproof phone pouch will give you the peace of mind you need to enjoy your time worry-free. \n",
      "\n",
      "Don't risk damaging your phone - invest in a waterproof phone pouch today and keep your device safe and dry at all times. Order now and make a splash with confidence!\u001b[0m\n",
      "\n",
      "\u001b[1m> Finished chain.\u001b[0m\n"
     ]
    },
    {
     "data": {
      "text/plain": [
       "\"Introducing the ultimate solution to keep your phone safe from water damage - our waterproof phone pouch! \\n\\nWith its transparent window, you can still use all of your phone's features, even underwater. The secure closure mechanism ensures that water stays out, while the adjustable strap allows you to easily carry your phone with you on any adventure.\\n\\nWhether you're swimming, snorkeling, kayaking, or simply lounging by the pool, our waterproof phone pouch will give you the peace of mind you need to enjoy your time worry-free. \\n\\nDon't risk damaging your phone - invest in a waterproof phone pouch today and keep your device safe and dry at all times. Order now and make a splash with confidence!\""
      ]
     },
     "execution_count": 65,
     "metadata": {},
     "output_type": "execute_result"
    }
   ],
   "source": [
    "product2=\"Waterproof Phone Pouch\"\n",
    "overall_simple_chain.run(product2)"
   ]
  },
  {
   "cell_type": "code",
   "execution_count": 67,
   "id": "e013370e",
   "metadata": {},
   "outputs": [
    {
     "name": "stdout",
     "output_type": "stream",
     "text": [
      "\n",
      "\n",
      "\u001b[1m> Entering new SimpleSequentialChain chain...\u001b[0m\n",
      "\u001b[36;1m\u001b[1;3mA pillow insert is a cushion-like material typically used to fill decorative pillow covers or to provide additional support and comfort to sleep pillows. Some common features and benefits of pillow inserts include:\n",
      "\n",
      "1. Various sizes: Pillow inserts come in a variety of sizes to fit different pillow covers or to accommodate different sleeping preferences.\n",
      "\n",
      "2. Different materials: Pillow inserts can be made from a range of materials, such as polyester, down, or foam, each offering different levels of softness and support.\n",
      "\n",
      "3. Easy to clean: Many pillow inserts are machine washable or have removable covers, making them easy to keep clean and maintain.\n",
      "\n",
      "4. Versatile: Pillow inserts can be used for decorative purposes, to provide extra support for neck or back pain, or to customize the firmness of a pillow for a more comfortable sleep.\n",
      "\n",
      "5. Affordable: Pillow inserts are often more cost-effective than buying a new pillow, offering a budget-friendly way to update the look and feel of your pillows.\n",
      "\n",
      "6. Comfort and support: Pillow inserts can help provide the right amount of cushioning and support for a good night's sleep or for relaxing on the couch.\n",
      "\n",
      "Overall, pillow inserts are a versatile and practical accessory that can enhance the comfort, style, and functionality of your pillows.\u001b[0m\n",
      "\u001b[33;1m\u001b[1;3mTransform your pillows with our high-quality pillow inserts! Whether you're looking to add a pop of color to your living room or improve your sleep quality, our pillow inserts have got you covered.\n",
      "\n",
      "With various sizes and materials to choose from, you can find the perfect fit for your needs. Our pillow inserts are easy to clean, versatile, and affordable, making them a must-have accessory for your home.\n",
      "\n",
      "Experience the ultimate comfort and support with our pillow inserts. Say goodbye to flat, lifeless pillows and hello to plush, cozy cushions that will have you sleeping like a baby or lounging in luxury.\n",
      "\n",
      "Upgrade your pillows today with our pillow inserts and elevate the style and functionality of your home decor. Shop now and start enjoying the benefits of our premium pillow inserts!\u001b[0m\n",
      "\n",
      "\u001b[1m> Finished chain.\u001b[0m\n"
     ]
    },
    {
     "data": {
      "text/plain": [
       "\"Transform your pillows with our high-quality pillow inserts! Whether you're looking to add a pop of color to your living room or improve your sleep quality, our pillow inserts have got you covered.\\n\\nWith various sizes and materials to choose from, you can find the perfect fit for your needs. Our pillow inserts are easy to clean, versatile, and affordable, making them a must-have accessory for your home.\\n\\nExperience the ultimate comfort and support with our pillow inserts. Say goodbye to flat, lifeless pillows and hello to plush, cozy cushions that will have you sleeping like a baby or lounging in luxury.\\n\\nUpgrade your pillows today with our pillow inserts and elevate the style and functionality of your home decor. Shop now and start enjoying the benefits of our premium pillow inserts!\""
      ]
     },
     "execution_count": 67,
     "metadata": {},
     "output_type": "execute_result"
    }
   ],
   "source": [
    "product3=\"Pillows Insert\"\n",
    "overall_simple_chain.run(product3)"
   ]
  },
  {
   "cell_type": "markdown",
   "id": "7b5ce18c",
   "metadata": {},
   "source": [
    "## SequentialChain"
   ]
  },
  {
   "cell_type": "code",
   "execution_count": 32,
   "id": "4c129ef6",
   "metadata": {},
   "outputs": [],
   "source": [
    "from langchain.chains import SequentialChain"
   ]
  },
  {
   "cell_type": "code",
   "execution_count": 33,
   "id": "016187ac",
   "metadata": {},
   "outputs": [],
   "source": [
    "llm = ChatOpenAI(temperature=0.9)\n",
    "\n",
    "\n",
    "first_prompt = ChatPromptTemplate.from_template(\n",
    "        \"Translate the following review into Arabic{review}\"\n",
    ")\n",
    "\n",
    "chain_one = LLMChain(llm=llm, prompt=first_prompt, \n",
    "                     output_key=\"translation\" #Give a name to your output\n",
    "                    )\n"
   ]
  },
  {
   "cell_type": "code",
   "execution_count": 34,
   "id": "0fb0730e",
   "metadata": {},
   "outputs": [],
   "source": [
    "second_prompt = ChatPromptTemplate.from_template(\n",
    "    \"Summarize the following review {review}\" #Write a promplt to summarize a review\n",
    ")\n",
    "\n",
    "chain_two = LLMChain(llm=llm, prompt=second_prompt, \n",
    "                     output_key=\"summarization\" #give a name to this output\n",
    "                    )\n"
   ]
  },
  {
   "cell_type": "code",
   "execution_count": 56,
   "id": "6accf92d",
   "metadata": {},
   "outputs": [],
   "source": [
    "# prompt template 3: translate to english or other language\n",
    "third_prompt = ChatPromptTemplate.from_template(\n",
    "       \"Translate the following review to English: {review}\"\n",
    ")\n",
    "# chain 3: input= Review and output= language\n",
    "chain_three = LLMChain(llm=llm, prompt=third_prompt,\n",
    "                       output_key=\"English_Review\"\n",
    "                      )\n"
   ]
  },
  {
   "cell_type": "code",
   "execution_count": 54,
   "id": "c7a46121",
   "metadata": {},
   "outputs": [],
   "source": [
    "\n",
    "# prompt template 4: follow up message that take as inputs the two previous prompts' variables\n",
    "fourth_prompt = ChatPromptTemplate.from_template(\n",
    "    \"Based on the following review summary and translation, generate a follow-up message for the customer.\\n\\n\"\n",
    "    \"Review Summary: {summarization}\\n\"\n",
    "    \"Translated Review: {translation}\\n\"\n",
    "    \"Follow-up message:\"\n",
    ")\n",
    "chain_four = LLMChain(llm=llm, prompt=fourth_prompt,\n",
    "                      output_key=\"followup\"\n",
    "                     )\n"
   ]
  },
  {
   "cell_type": "code",
   "execution_count": 60,
   "id": "89603117",
   "metadata": {},
   "outputs": [],
   "source": [
    "# overall_chain: input= Review \n",
    "# and output= English_Review,summary, followup_message\n",
    "overall_chain = SequentialChain(\n",
    "    chains=[chain_one, chain_two, chain_three, chain_four],\n",
    "    input_variables=[\"review\"],\n",
    "    output_variables=[\"English_Review\", \"summarization\", \"followup\"],\n",
    "    verbose=True\n",
    ")"
   ]
  },
  {
   "cell_type": "code",
   "execution_count": 61,
   "id": "51b04f45",
   "metadata": {},
   "outputs": [
    {
     "name": "stderr",
     "output_type": "stream",
     "text": [
      "/var/folders/ck/mhktfb696vqc0jwr3cy7htm00000gn/T/ipykernel_71245/1992003631.py:2: LangChainDeprecationWarning: The method `Chain.__call__` was deprecated in langchain 0.1.0 and will be removed in 1.0. Use :meth:`~invoke` instead.\n",
      "  overall_chain(review)\n"
     ]
    },
    {
     "name": "stdout",
     "output_type": "stream",
     "text": [
      "\n",
      "\n",
      "\u001b[1m> Entering new SequentialChain chain...\u001b[0m\n",
      "\n",
      "\u001b[1m> Finished chain.\u001b[0m\n"
     ]
    },
    {
     "data": {
      "text/plain": [
       "{'review': \"Je trouve le goût médiocre. La mousse ne tient pas, c'est bizarre. J'achète les mêmes dans le commerce et le goût est bien meilleur...\\nVieux lot ou contrefaçon !?\",\n",
       " 'English_Review': \"I find the taste mediocre. The foam does not hold, it's strange. I buy the same ones in stores and the taste is much better... Old batch or counterfeit!?\",\n",
       " 'summarization': \"L'auteur de la critique trouve le goût médiocre de la boisson, la mousse ne tient pas et il soupçonne qu'il s'agit peut-être d'un vieux lot ou d'une contrefaçon. Il mentionne également qu'il a acheté les mêmes produits dans le commerce et que le goût était bien meilleur.\",\n",
       " 'followup': \"We apologize for your experience with our product and appreciate your feedback. We take quality very seriously and would like to investigate further to ensure this doesn't happen again. Can you please provide us with more details, such as the lot number or where you purchased the product? Thank you for bringing this to our attention.\"}"
      ]
     },
     "execution_count": 61,
     "metadata": {},
     "output_type": "execute_result"
    }
   ],
   "source": [
    "review = df.Review[5]\n",
    "overall_chain(review)"
   ]
  },
  {
   "cell_type": "markdown",
   "id": "3187cf07-458a-4226-bec7-3dec7ee47af2",
   "metadata": {},
   "source": [
    "**Repeat the above twice for different products or reviews**"
   ]
  },
  {
   "cell_type": "code",
   "execution_count": 62,
   "id": "ef78966b",
   "metadata": {},
   "outputs": [
    {
     "name": "stdout",
     "output_type": "stream",
     "text": [
      "\n",
      "\n",
      "\u001b[1m> Entering new SequentialChain chain...\u001b[0m\n",
      "\n",
      "\u001b[1m> Finished chain.\u001b[0m\n"
     ]
    },
    {
     "data": {
      "text/plain": [
       "{'review': 'Está lu bonita calienta muy rápido, es muy funcional, solo falta ver cuánto dura, solo llevo 3 días en funcionamiento.',\n",
       " 'English_Review': 'This heater is very pretty and heats up very quickly, it is very functional. I just need to see how long it lasts, I have only been using it for 3 days.',\n",
       " 'summarization': 'El calentador es bonito, calienta rápido y es funcional. El único aspecto pendiente por evaluar es su durabilidad, ya que solo ha sido utilizado por tres días.',\n",
       " 'followup': \"Thank you for your review! We're glad to hear that you are satisfied with the heater's design and functionality. We hope that it continues to meet your expectations in terms of durability as well. Please feel free to reach out to us if you have any further feedback or questions. Thank you for choosing our product!\"}"
      ]
     },
     "execution_count": 62,
     "metadata": {},
     "output_type": "execute_result"
    }
   ],
   "source": [
    "review1 = df.Review[6]\n",
    "overall_chain(review1)"
   ]
  },
  {
   "cell_type": "code",
   "execution_count": 63,
   "id": "fa9122d1",
   "metadata": {},
   "outputs": [
    {
     "name": "stdout",
     "output_type": "stream",
     "text": [
      "\n",
      "\n",
      "\u001b[1m> Entering new SequentialChain chain...\u001b[0m\n",
      "\n",
      "\u001b[1m> Finished chain.\u001b[0m\n"
     ]
    },
    {
     "data": {
      "text/plain": [
       "{'review': \"This mattress had a small hole in the top of it (took forever to find where it was), and the patches that they provide did not work, maybe because it's the top of the mattress where it's kind of like fabric and a patch won't stick. Maybe I got unlucky with a defective mattress, but where's quality assurance for this company? That flat out should not happen. Emphasis on flat. Cause that's what the mattress was. Seriously horrible experience, ruined my friend's stay with me. Then they make you ship it back instead of just providing a refund, which is also super annoying to pack up an air mattress and take it to the UPS store. This company is the worst, and this mattress is the worst.\",\n",
       " 'English_Review': \"This mattress had a small hole on the top (took forever to find it), and the patches they provide didn't work, maybe because it's the top of the mattress where it's fabric and a patch won't stick. Maybe I was unlucky with a defective mattress, but where is the quality assurance for this company? That shouldn't happen. Emphasis on flat. Because that's what the mattress was. Seriously horrible experience, ruined my friend's stay with me. Then they make you ship it back instead of providing a refund, which is also annoying to pack up an air mattress and take it to the UPS store. This company is the worst, and this mattress is the worst.\",\n",
       " 'summarization': 'The reviewer had a negative experience with the mattress as it had a small hole that was difficult to patch and did not hold. They felt that the quality assurance of the company was lacking and that the mattress was flat and uncomfortable. The reviewer was disappointed with the experience and had to go through the hassle of shipping the mattress back for a refund. Overall, they found the company and the mattress to be the worst.',\n",
       " 'followup': 'We are truly sorry to hear about your negative experience with our mattress. We understand your frustration with the small hole and the difficulty in patching it. We strive to provide high-quality products and we apologize that this was not reflected in your purchase. Please know that we take customer feedback seriously and we will address the issues you have mentioned with our quality assurance team. We appreciate you taking the time to share your experience with us, and we would like to offer you a refund for the inconvenience. Please let us know how we can assist you further in returning the mattress. Thank you for bringing this to our attention.'}"
      ]
     },
     "execution_count": 63,
     "metadata": {},
     "output_type": "execute_result"
    }
   ],
   "source": [
    "review3 = df.Review[2]\n",
    "overall_chain(review3)"
   ]
  },
  {
   "cell_type": "markdown",
   "id": "3041ea4c",
   "metadata": {},
   "source": [
    "## Router Chain"
   ]
  },
  {
   "cell_type": "code",
   "execution_count": 68,
   "id": "ade83f4f",
   "metadata": {},
   "outputs": [],
   "source": [
    "physics_template = \"\"\"You are a very smart physics professor. \\\n",
    "You are great at answering questions about physics in a concise\\\n",
    "and easy to understand manner. \\\n",
    "When you don't know the answer to a question you admit\\\n",
    "that you don't know.\n",
    "\n",
    "Here is a question:\n",
    "{input}\"\"\"\n",
    "\n",
    "\n",
    "math_template = \"\"\"You are a very good mathematician. \\\n",
    "You are great at answering math questions. \\\n",
    "You are so good because you are able to break down \\\n",
    "hard problems into their component parts, \n",
    "answer the component parts, and then put them together\\\n",
    "to answer the broader question.\n",
    "\n",
    "Here is a question:\n",
    "{input}\"\"\"\n",
    "\n",
    "history_template = \"\"\"You are a very good historian. \\\n",
    "You have an excellent knowledge of and understanding of people,\\\n",
    "events and contexts from a range of historical periods. \\\n",
    "You have the ability to think, reflect, debate, discuss and \\\n",
    "evaluate the past. You have a respect for historical evidence\\\n",
    "and the ability to make use of it to support your explanations \\\n",
    "and judgements.\n",
    "\n",
    "Here is a question:\n",
    "{input}\"\"\"\n",
    "\n",
    "\n",
    "computerscience_template = \"\"\" You are a successful computer scientist.\\\n",
    "You have a passion for creativity, collaboration,\\\n",
    "forward-thinking, confidence, strong problem-solving capabilities,\\\n",
    "understanding of theories and algorithms, and excellent communication \\\n",
    "skills. You are great at answering coding questions. \\\n",
    "You are so good because you know how to solve a problem by \\\n",
    "describing the solution in imperative steps \\\n",
    "that a machine can easily interpret and you know how to \\\n",
    "choose a solution that has a good balance between \\\n",
    "time complexity and space complexity. \n",
    "\n",
    "Here is a question:\n",
    "{input}\"\"\"\n",
    "\n",
    "biology_template = \"\"\"You are an excellent biologist. \\\n",
    "You have a deep understanding of living organisms, \\\n",
    "from the molecular and cellular level to entire ecosystems. \\\n",
    "You are skilled at observing patterns in nature, analyzing biological data, \\\n",
    "and explaining complex processes like evolution, genetics, physiology, and ecology. \\\n",
    "You can clearly communicate how life functions and adapts, \\\n",
    "and you make connections between different biological concepts \\\n",
    "to answer challenging questions.\n",
    "\n",
    "Here is a question:\n",
    "{input}\"\"\""
   ]
  },
  {
   "cell_type": "code",
   "execution_count": 69,
   "id": "5f590e9f",
   "metadata": {},
   "outputs": [],
   "source": [
    "prompt_infos = [\n",
    "    {\n",
    "        \"name\": \"physics\", \n",
    "        \"description\": \"Good for answering questions about physics\", \n",
    "        \"prompt_template\": physics_template\n",
    "    },\n",
    "    {\n",
    "        \"name\": \"math\", \n",
    "        \"description\": \"Good for answering math questions\", \n",
    "        \"prompt_template\": math_template\n",
    "    },\n",
    "    {\n",
    "        \"name\": \"History\", \n",
    "        \"description\": \"Good for answering history questions\", \n",
    "        \"prompt_template\": history_template\n",
    "    },\n",
    "    {\n",
    "        \"name\": \"computer science\", \n",
    "        \"description\": \"Good for answering computer science questions\", \n",
    "        \"prompt_template\": computerscience_template\n",
    "    },\n",
    "    {\n",
    "        \"name\": \"biology\",\n",
    "        \"description\": \"Good for answering biology questions\",\n",
    "        \"prompt_template\": biology_template\n",
    "    }\n",
    "]"
   ]
  },
  {
   "cell_type": "code",
   "execution_count": 70,
   "id": "31b06fc8",
   "metadata": {},
   "outputs": [],
   "source": [
    "from langchain.chains.router import MultiPromptChain\n",
    "from langchain.chains.router.llm_router import LLMRouterChain,RouterOutputParser\n",
    "from langchain.prompts import PromptTemplate"
   ]
  },
  {
   "cell_type": "code",
   "execution_count": 71,
   "id": "f3f50bcc",
   "metadata": {},
   "outputs": [],
   "source": [
    "llm = ChatOpenAI(temperature=0)"
   ]
  },
  {
   "cell_type": "code",
   "execution_count": 72,
   "id": "8eefec24",
   "metadata": {},
   "outputs": [],
   "source": [
    "destination_chains = {}\n",
    "for p_info in prompt_infos:\n",
    "    name = p_info[\"name\"]\n",
    "    prompt_template = p_info[\"prompt_template\"]\n",
    "    prompt = ChatPromptTemplate.from_template(template=prompt_template)\n",
    "    chain = LLMChain(llm=llm, prompt=prompt)\n",
    "    destination_chains[name] = chain  \n",
    "    \n",
    "destinations = [f\"{p['name']}: {p['description']}\" for p in prompt_infos]\n",
    "destinations_str = \"\\n\".join(destinations)"
   ]
  },
  {
   "cell_type": "code",
   "execution_count": 73,
   "id": "9f98018a",
   "metadata": {},
   "outputs": [],
   "source": [
    "default_prompt = ChatPromptTemplate.from_template(\"{input}\")\n",
    "default_chain = LLMChain(llm=llm, prompt=default_prompt)"
   ]
  },
  {
   "cell_type": "code",
   "execution_count": 74,
   "id": "11b2e2ba",
   "metadata": {},
   "outputs": [],
   "source": [
    "MULTI_PROMPT_ROUTER_TEMPLATE = \"\"\"Given a raw text input to a \\\n",
    "language model select the model prompt best suited for the input. \\\n",
    "You will be given the names of the available prompts and a \\\n",
    "description of what the prompt is best suited for. \\\n",
    "You may also revise the original input if you think that revising\\\n",
    "it will ultimately lead to a better response from the language model.\n",
    "\n",
    "<< FORMATTING >>\n",
    "Return a markdown code snippet with a JSON object formatted to look like:\n",
    "```json\n",
    "{{{{\n",
    "    \"destination\": string \\ name of the prompt to use or \"DEFAULT\"\n",
    "    \"next_inputs\": string \\ a potentially modified version of the original input\n",
    "}}}}\n",
    "```\n",
    "\n",
    "REMEMBER: \"destination\" MUST be one of the candidate prompt \\\n",
    "names specified below OR it can be \"DEFAULT\" if the input is not\\\n",
    "well suited for any of the candidate prompts.\n",
    "REMEMBER: \"next_inputs\" can just be the original input \\\n",
    "if you don't think any modifications are needed.\n",
    "\n",
    "<< CANDIDATE PROMPTS >>\n",
    "{destinations}\n",
    "\n",
    "<< INPUT >>\n",
    "{{input}}\n",
    "\n",
    "<< OUTPUT (remember to include the ```json)>>\"\"\""
   ]
  },
  {
   "cell_type": "code",
   "execution_count": 75,
   "id": "1387109d",
   "metadata": {},
   "outputs": [],
   "source": [
    "router_template = MULTI_PROMPT_ROUTER_TEMPLATE.format(\n",
    "    destinations=destinations_str\n",
    ")\n",
    "router_prompt = PromptTemplate(\n",
    "    template=router_template,\n",
    "    input_variables=[\"input\"],\n",
    "    output_parser=RouterOutputParser(),\n",
    ")\n",
    "\n",
    "router_chain = LLMRouterChain.from_llm(llm, router_prompt)"
   ]
  },
  {
   "cell_type": "code",
   "execution_count": 76,
   "id": "2fb7d560",
   "metadata": {},
   "outputs": [
    {
     "name": "stderr",
     "output_type": "stream",
     "text": [
      "/var/folders/ck/mhktfb696vqc0jwr3cy7htm00000gn/T/ipykernel_71245/3038952769.py:1: LangChainDeprecationWarning: Please see migration guide here for recommended implementation: https://python.langchain.com/docs/versions/migrating_chains/multi_prompt_chain/\n",
      "  chain = MultiPromptChain(router_chain=router_chain,\n"
     ]
    }
   ],
   "source": [
    "chain = MultiPromptChain(router_chain=router_chain, \n",
    "                         destination_chains=destination_chains, \n",
    "                         default_chain=default_chain, verbose=True\n",
    "                        )"
   ]
  },
  {
   "cell_type": "code",
   "execution_count": 77,
   "id": "d86b2131",
   "metadata": {},
   "outputs": [
    {
     "name": "stdout",
     "output_type": "stream",
     "text": [
      "\n",
      "\n",
      "\u001b[1m> Entering new MultiPromptChain chain...\u001b[0m\n",
      "physics: {'input': 'What is black body radiation?'}\n",
      "\u001b[1m> Finished chain.\u001b[0m\n"
     ]
    },
    {
     "data": {
      "text/plain": [
       "\"Black body radiation refers to the electromagnetic radiation emitted by a perfect black body, which is an idealized physical body that absorbs all incident electromagnetic radiation and emits radiation at all frequencies. The radiation emitted by a black body depends only on its temperature and follows a specific distribution known as Planck's law. This type of radiation is important in understanding concepts such as thermal radiation and the behavior of objects at different temperatures.\""
      ]
     },
     "execution_count": 77,
     "metadata": {},
     "output_type": "execute_result"
    }
   ],
   "source": [
    "chain.run(\"What is black body radiation?\")"
   ]
  },
  {
   "cell_type": "code",
   "execution_count": 78,
   "id": "3b717379",
   "metadata": {},
   "outputs": [
    {
     "name": "stdout",
     "output_type": "stream",
     "text": [
      "\n",
      "\n",
      "\u001b[1m> Entering new MultiPromptChain chain...\u001b[0m\n",
      "math: {'input': 'what is 2 + 2'}\n",
      "\u001b[1m> Finished chain.\u001b[0m\n"
     ]
    },
    {
     "data": {
      "text/plain": [
       "'The answer to 2 + 2 is 4.'"
      ]
     },
     "execution_count": 78,
     "metadata": {},
     "output_type": "execute_result"
    }
   ],
   "source": [
    "chain.run(\"what is 2 + 2\")"
   ]
  },
  {
   "cell_type": "code",
   "execution_count": 79,
   "id": "29e5be01",
   "metadata": {},
   "outputs": [
    {
     "name": "stdout",
     "output_type": "stream",
     "text": [
      "\n",
      "\n",
      "\u001b[1m> Entering new MultiPromptChain chain...\u001b[0m\n",
      "biology: {'input': 'Why does every cell in our body contain DNA?'}\n",
      "\u001b[1m> Finished chain.\u001b[0m\n"
     ]
    },
    {
     "data": {
      "text/plain": [
       "'Every cell in our body contains DNA because DNA is the genetic material that carries the instructions for the development, functioning, and reproduction of all living organisms. DNA contains the information needed to build and maintain an organism, including the proteins that make up our cells and tissues. \\n\\nHaving DNA in every cell ensures that each cell has the necessary genetic information to carry out its specific functions and to replicate itself accurately during cell division. This ensures that the genetic information is passed on to the next generation of cells. \\n\\nAdditionally, DNA is constantly being used by cells to carry out processes such as protein synthesis, cell division, and repair. Having DNA in every cell allows for the coordination of these processes and ensures that the organism functions properly as a whole. \\n\\nIn summary, every cell in our body contains DNA because it is essential for the proper functioning and development of all living organisms.'"
      ]
     },
     "execution_count": 79,
     "metadata": {},
     "output_type": "execute_result"
    }
   ],
   "source": [
    "chain.run(\"Why does every cell in our body contain DNA?\")"
   ]
  },
  {
   "cell_type": "markdown",
   "id": "09e0c60b-7ae0-453e-9467-142d8dafee6e",
   "metadata": {},
   "source": [
    "**Repeat the above at least once for different inputs and chains executions - Be creative!**"
   ]
  },
  {
   "cell_type": "code",
   "execution_count": 80,
   "id": "7bc0dd20",
   "metadata": {},
   "outputs": [
    {
     "name": "stdout",
     "output_type": "stream",
     "text": [
      "\n",
      "\n",
      "\u001b[1m> Entering new MultiPromptChain chain...\u001b[0m\n",
      "computer science: {'input': 'What is Big O Notation, and why is it important?'}\n",
      "\u001b[1m> Finished chain.\u001b[0m\n"
     ]
    },
    {
     "data": {
      "text/plain": [
       "'Big O Notation is a mathematical notation used to describe the efficiency of an algorithm in terms of its worst-case scenario. It represents the upper bound of the time complexity of an algorithm in relation to the input size.\\n\\nBig O Notation is important because it allows computer scientists to analyze and compare the efficiency of different algorithms without having to implement and test them. By understanding the Big O complexity of an algorithm, developers can make informed decisions about which algorithm to use based on the size of the input data and the resources available.\\n\\nIn addition, Big O Notation helps in predicting how an algorithm will perform as the input size grows, allowing developers to optimize their code and improve the overall performance of their applications. It also helps in identifying bottlenecks and inefficiencies in algorithms, leading to better design and implementation choices.'"
      ]
     },
     "execution_count": 80,
     "metadata": {},
     "output_type": "execute_result"
    }
   ],
   "source": [
    "chain.run(\"What is Big O Notation, and why is it important?\")"
   ]
  },
  {
   "cell_type": "code",
   "execution_count": 81,
   "id": "ffd5ca29",
   "metadata": {},
   "outputs": [
    {
     "name": "stdout",
     "output_type": "stream",
     "text": [
      "\n",
      "\n",
      "\u001b[1m> Entering new MultiPromptChain chain...\u001b[0m\n",
      "History: {'input': 'Which countries were part of the Allied Powers and the Central Powers?'}\n",
      "\u001b[1m> Finished chain.\u001b[0m\n"
     ]
    },
    {
     "data": {
      "text/plain": [
       "'During World War I, the Allied Powers included countries such as France, Russia, the United Kingdom, Italy, and the United States. The Central Powers included Germany, Austria-Hungary, the Ottoman Empire, and Bulgaria.'"
      ]
     },
     "execution_count": 81,
     "metadata": {},
     "output_type": "execute_result"
    }
   ],
   "source": [
    "chain.run(\"Which countries were part of the Allied Powers and the Central Powers?\")"
   ]
  },
  {
   "cell_type": "code",
   "execution_count": 82,
   "id": "0c5b3939",
   "metadata": {},
   "outputs": [
    {
     "name": "stdout",
     "output_type": "stream",
     "text": [
      "\n",
      "\n",
      "\u001b[1m> Entering new MultiPromptChain chain...\u001b[0m\n",
      "History: {'input': 'What role did propaganda play during the war?'}\n",
      "\u001b[1m> Finished chain.\u001b[0m\n"
     ]
    },
    {
     "data": {
      "text/plain": [
       "'Propaganda played a significant role during the war, as it was used by governments and military leaders to manipulate public opinion, boost morale, and demonize the enemy. Propaganda was used to rally support for the war effort, recruit soldiers, and justify the sacrifices being made. It was also used to dehumanize the enemy and portray them as evil, in order to justify the violence and destruction of war.\\n\\nPropaganda took many forms during the war, including posters, films, radio broadcasts, newspapers, and speeches. It often relied on emotional appeals, stereotypes, and exaggerations to sway public opinion and shape perceptions of the conflict. Propaganda was a powerful tool in shaping public opinion and influencing behavior during the war, and its effects were felt both on the home front and the battlefield.'"
      ]
     },
     "execution_count": 82,
     "metadata": {},
     "output_type": "execute_result"
    }
   ],
   "source": [
    "chain.run(\"What role did propaganda play during the war?\")"
   ]
  },
  {
   "cell_type": "code",
   "execution_count": 83,
   "id": "66d923f7",
   "metadata": {},
   "outputs": [
    {
     "name": "stdout",
     "output_type": "stream",
     "text": [
      "\n",
      "\n",
      "\u001b[1m> Entering new MultiPromptChain chain...\u001b[0m\n",
      "math: {'input': 'A data set has the values: 2, 4, 4, 6, 8. What is the mean? What is the mode?'}\n",
      "\u001b[1m> Finished chain.\u001b[0m\n"
     ]
    },
    {
     "data": {
      "text/plain": [
       "'To find the mean of a data set, you add up all the values and then divide by the total number of values. \\n\\nMean = (2 + 4 + 4 + 6 + 8) / 5 = 24 / 5 = 4.8\\n\\nSo, the mean of the data set is 4.8.\\n\\nTo find the mode of a data set, you look for the value that appears most frequently. In this case, the value 4 appears twice, which is more than any other value.\\n\\nTherefore, the mode of the data set is 4.'"
      ]
     },
     "execution_count": 83,
     "metadata": {},
     "output_type": "execute_result"
    }
   ],
   "source": [
    "chain.run(\"A data set has the values: 2, 4, 4, 6, 8. What is the mean? What is the mode?\")"
   ]
  },
  {
   "cell_type": "code",
   "execution_count": null,
   "id": "f4c1da9e",
   "metadata": {},
   "outputs": [],
   "source": []
  }
 ],
 "metadata": {
  "kernelspec": {
   "display_name": ".venv",
   "language": "python",
   "name": "python3"
  },
  "language_info": {
   "codemirror_mode": {
    "name": "ipython",
    "version": 3
   },
   "file_extension": ".py",
   "mimetype": "text/x-python",
   "name": "python",
   "nbconvert_exporter": "python",
   "pygments_lexer": "ipython3",
   "version": "3.9.6"
  }
 },
 "nbformat": 4,
 "nbformat_minor": 5
}
